{
 "cells": [
  {
   "cell_type": "code",
   "execution_count": 1,
   "metadata": {
    "collapsed": true
   },
   "outputs": [],
   "source": [
    "from __future__ import division, print_function\n",
    "\n",
    "import numpy as np\n",
    "import lda\n",
    "import lda.datasets"
   ]
  },
  {
   "cell_type": "code",
   "execution_count": 2,
   "metadata": {
    "collapsed": false
   },
   "outputs": [
    {
     "name": "stdout",
     "output_type": "stream",
     "text": [
      "type(X): <class 'numpy.ndarray'>\n",
      "shape: (395, 4258)\n",
      "\n"
     ]
    }
   ],
   "source": [
    "X = lda.datasets.load_reuters()\n",
    "print(\"type(X): {}\".format(type(X)))\n",
    "print(\"shape: {}\\n\".format(X.shape))"
   ]
  },
  {
   "cell_type": "code",
   "execution_count": 3,
   "metadata": {
    "collapsed": false
   },
   "outputs": [
    {
     "name": "stdout",
     "output_type": "stream",
     "text": [
      "type(vocab): <class 'tuple'>\n",
      "len(vocab): 4258\n",
      "\n"
     ]
    }
   ],
   "source": [
    "vocab = lda.datasets.load_reuters_vocab()\n",
    "print(\"type(vocab): {}\".format(type(vocab)))\n",
    "print(\"len(vocab): {}\\n\".format(len(vocab)))"
   ]
  },
  {
   "cell_type": "code",
   "execution_count": 4,
   "metadata": {
    "collapsed": false
   },
   "outputs": [
    {
     "name": "stdout",
     "output_type": "stream",
     "text": [
      "type(titles): <class 'tuple'>\n",
      "len(titles): 395\n",
      "\n"
     ]
    }
   ],
   "source": [
    "titles = lda.datasets.load_reuters_titles()\n",
    "print(\"type(titles): {}\".format(type(titles)))\n",
    "print(\"len(titles): {}\\n\".format(len(titles)))\n"
   ]
  },
  {
   "cell_type": "code",
   "execution_count": 5,
   "metadata": {
    "collapsed": false
   },
   "outputs": [
    {
     "name": "stdout",
     "output_type": "stream",
     "text": [
      "doc id: 0 word id: 3117\n",
      "-- count: 2\n",
      "-- word : heir-to-the-throne\n",
      "-- doc  : 0 UK: Prince Charles spearheads British royal revolution. LONDON 1996-08-20\n"
     ]
    }
   ],
   "source": [
    "doc_id = 0\n",
    "word_id = 3117\n",
    "\n",
    "print(\"doc id: {} word id: {}\".format(doc_id, word_id))\n",
    "print(\"-- count: {}\".format(X[doc_id, word_id]))\n",
    "print(\"-- word : {}\".format(vocab[word_id]))\n",
    "print(\"-- doc  : {}\".format(titles[doc_id]))"
   ]
  },
  {
   "cell_type": "code",
   "execution_count": 6,
   "metadata": {
    "collapsed": false
   },
   "outputs": [
    {
     "data": {
      "text/plain": [
       "<lda.lda.LDA at 0x1bd2ce0b0f0>"
      ]
     },
     "execution_count": 6,
     "metadata": {},
     "output_type": "execute_result"
    }
   ],
   "source": [
    "model = lda.LDA(n_topics=20, n_iter=500, random_state=1)\n",
    "model.fit(X)"
   ]
  },
  {
   "cell_type": "code",
   "execution_count": 7,
   "metadata": {
    "collapsed": false
   },
   "outputs": [
    {
     "name": "stdout",
     "output_type": "stream",
     "text": [
      "type(topic_word): <class 'numpy.ndarray'>\n",
      "shape: (20, 4258)\n"
     ]
    }
   ],
   "source": [
    "topic_word = model.topic_word_\n",
    "print(\"type(topic_word): {}\".format(type(topic_word)))\n",
    "print(\"shape: {}\".format(topic_word.shape))"
   ]
  },
  {
   "cell_type": "code",
   "execution_count": 8,
   "metadata": {
    "collapsed": false
   },
   "outputs": [
    {
     "name": "stdout",
     "output_type": "stream",
     "text": [
      "topic: 0 sum: 1.0000000000000875\n",
      "topic: 1 sum: 1.0000000000001148\n",
      "topic: 2 sum: 0.9999999999998656\n",
      "topic: 3 sum: 1.0000000000000042\n",
      "topic: 4 sum: 1.0000000000000928\n"
     ]
    }
   ],
   "source": [
    "for n in range(5):\n",
    "    sum_pr = sum(topic_word[n,:])\n",
    "    print(\"topic: {} sum: {}\".format(n, sum_pr))"
   ]
  },
  {
   "cell_type": "code",
   "execution_count": 9,
   "metadata": {
    "collapsed": false
   },
   "outputs": [
    {
     "name": "stdout",
     "output_type": "stream",
     "text": [
      "*Topic 0\n",
      "- government british minister west group\n",
      "*Topic 1\n",
      "- church first during people political\n",
      "*Topic 2\n",
      "- elvis king wright fans presley\n",
      "*Topic 3\n",
      "- yeltsin russian russia president kremlin\n",
      "*Topic 4\n",
      "- pope vatican paul surgery pontiff\n",
      "*Topic 5\n",
      "- family police miami versace cunanan\n",
      "*Topic 6\n",
      "- south simpson born york white\n",
      "*Topic 7\n",
      "- order church mother successor since\n",
      "*Topic 8\n",
      "- charles prince diana royal queen\n",
      "*Topic 9\n",
      "- film france french against actor\n",
      "*Topic 10\n",
      "- germany german war nazi christian\n",
      "*Topic 11\n",
      "- east prize peace timor quebec\n",
      "*Topic 12\n",
      "- n't told life people church\n",
      "*Topic 13\n",
      "- years world time year last\n",
      "*Topic 14\n",
      "- mother teresa heart charity calcutta\n",
      "*Topic 15\n",
      "- city salonika exhibition buddhist byzantine\n",
      "*Topic 16\n",
      "- music first people tour including\n",
      "*Topic 17\n",
      "- church catholic bernardin cardinal bishop\n",
      "*Topic 18\n",
      "- harriman clinton u.s churchill paris\n",
      "*Topic 19\n",
      "- century art million museum city\n"
     ]
    }
   ],
   "source": [
    "n = 5\n",
    "for i, topic_dist in enumerate(topic_word):\n",
    "    topic_words = np.array(vocab)[np.argsort(topic_dist)][:-(n+1):-1]\n",
    "    print('*Topic {}\\n- {}'.format(i, ' '.join(topic_words)))    \n"
   ]
  },
  {
   "cell_type": "code",
   "execution_count": 10,
   "metadata": {
    "collapsed": false
   },
   "outputs": [
    {
     "name": "stdout",
     "output_type": "stream",
     "text": [
      "type(doc_topic): <class 'numpy.ndarray'>\n",
      "shape: (395, 20)\n"
     ]
    }
   ],
   "source": [
    "doc_topic = model.doc_topic_\n",
    "print(\"type(doc_topic): {}\".format(type(doc_topic)))\n",
    "print(\"shape: {}\".format(doc_topic.shape))\n"
   ]
  },
  {
   "cell_type": "code",
   "execution_count": 11,
   "metadata": {
    "collapsed": false
   },
   "outputs": [
    {
     "name": "stdout",
     "output_type": "stream",
     "text": [
      "document: 0 sum: 1.0000000000000002\n",
      "document: 1 sum: 0.9999999999999998\n",
      "document: 2 sum: 1.0\n",
      "document: 3 sum: 1.0000000000000002\n",
      "document: 4 sum: 0.9999999999999997\n"
     ]
    }
   ],
   "source": [
    "for n in range(5):\n",
    "    sum_pr = sum(doc_topic[n,:])\n",
    "    print(\"document: {} sum: {}\".format(n, sum_pr))\n"
   ]
  },
  {
   "cell_type": "code",
   "execution_count": 12,
   "metadata": {
    "collapsed": false
   },
   "outputs": [
    {
     "name": "stdout",
     "output_type": "stream",
     "text": [
      "doc: 0 topic: 8\n",
      "0 UK: Prince Charles spearheads British royal revo...\n",
      "doc: 1 topic: 1\n",
      "1 GERMANY: Historic Dresden church rising from WW2...\n",
      "doc: 2 topic: 14\n",
      "2 INDIA: Mother Teresa's condition said still unst...\n",
      "doc: 3 topic: 8\n",
      "3 UK: Palace warns British weekly over Charles pic...\n",
      "doc: 4 topic: 14\n",
      "4 INDIA: Mother Teresa, slightly stronger, blesses...\n",
      "doc: 5 topic: 14\n",
      "5 INDIA: Mother Teresa's condition unchanged, thou...\n",
      "doc: 6 topic: 14\n",
      "6 INDIA: Mother Teresa shows signs of strength, bl...\n",
      "doc: 7 topic: 14\n",
      "7 INDIA: Mother Teresa's condition improves, many ...\n",
      "doc: 8 topic: 14\n",
      "8 INDIA: Mother Teresa improves, nuns pray for \"mi...\n",
      "doc: 9 topic: 8\n",
      "9 UK: Charles under fire over prospect of Queen Ca...\n"
     ]
    }
   ],
   "source": [
    "for n in range(10):\n",
    "    topic_most_pr = doc_topic[n].argmax()\n",
    "    print(\"doc: {} topic: {}\\n{}...\".format(n,\n",
    "                                            topic_most_pr,\n",
    "                                            titles[n][:50]))\n"
   ]
  },
  {
   "cell_type": "code",
   "execution_count": 13,
   "metadata": {
    "collapsed": true
   },
   "outputs": [],
   "source": [
    "import matplotlib.pyplot as plt\n",
    "\n",
    "# use matplotlib style sheet\n",
    "try:\n",
    "    plt.style.use('ggplot')\n",
    "except:\n",
    "    # version of matplotlib might not be recent\n",
    "    pass    "
   ]
  },
  {
   "cell_type": "code",
   "execution_count": 14,
   "metadata": {
    "collapsed": false
   },
   "outputs": [
    {
     "data": {
      "image/png": "[encoded data removed]",
      "text/plain": [
       "<matplotlib.figure.Figure at 0x1bd2f496470>"
      ]
     },
     "metadata": {},
     "output_type": "display_data"
    }
   ],
   "source": [
    "%matplotlib inline\n",
    "f, ax= plt.subplots(5, 1, figsize=(8, 6), sharex=True)\n",
    "for i, k in enumerate([0, 5, 9, 14, 19]):\n",
    "    ax[i].stem(topic_word[k,:], linefmt='b-',\n",
    "               markerfmt='bo', basefmt='w-')\n",
    "    ax[i].set_xlim(-50,4350)\n",
    "    ax[i].set_ylim(0, 0.08)\n",
    "    ax[i].set_ylabel(\"Prob\")\n",
    "    ax[i].set_title(\"topic {}\".format(k))\n",
    "\n",
    "ax[4].set_xlabel(\"word\")\n",
    "\n",
    "plt.tight_layout()\n",
    "plt.show()"
   ]
  },
  {
   "cell_type": "code",
   "execution_count": 16,
   "metadata": {
    "collapsed": false
   },
   "outputs": [
    {
     "data": {
      "image/png": "[encoded data removed]",
      "text/plain": [
       "<matplotlib.figure.Figure at 0x1bd4e5ae6a0>"
      ]
     },
     "metadata": {},
     "output_type": "display_data"
    }
   ],
   "source": [
    "f, ax= plt.subplots(5, 1, figsize=(8, 6), sharex=True)\n",
    "for i, k in enumerate([1, 3, 4, 8, 9]):\n",
    "    ax[i].stem(doc_topic[k,:], linefmt='r-',\n",
    "               markerfmt='ro', basefmt='w-')\n",
    "    ax[i].set_xlim(-1, 21)\n",
    "    ax[i].set_ylim(0, 1)\n",
    "    ax[i].set_ylabel(\"Prob\")\n",
    "    ax[i].set_title(\"Document {}\".format(k))\n",
    "\n",
    "ax[4].set_xlabel(\"Topic\")\n",
    "\n",
    "plt.tight_layout()\n",
    "plt.show()"
   ]
  },
  {
   "cell_type": "markdown",
   "metadata": {},
   "source": [
    "# Teine variant"
   ]
  },
  {
   "cell_type": "code",
   "execution_count": 1,
   "metadata": {
    "collapsed": false
   },
   "outputs": [
    {
     "name": "stderr",
     "output_type": "stream",
     "text": [
      "C:\\Users\\Risto\\Anaconda3\\lib\\site-packages\\funcy\\decorators.py:56: DeprecationWarning: inspect.getargspec() is deprecated, use inspect.signature() instead\n",
      "  spec = inspect.getargspec(func)\n",
      "C:\\Users\\Risto\\Anaconda3\\lib\\site-packages\\funcy\\decorators.py:56: DeprecationWarning: inspect.getargspec() is deprecated, use inspect.signature() instead\n",
      "  spec = inspect.getargspec(func)\n",
      "C:\\Users\\Risto\\Anaconda3\\lib\\site-packages\\funcy\\decorators.py:56: DeprecationWarning: inspect.getargspec() is deprecated, use inspect.signature() instead\n",
      "  spec = inspect.getargspec(func)\n",
      "C:\\Users\\Risto\\Anaconda3\\lib\\site-packages\\funcy\\decorators.py:56: DeprecationWarning: inspect.getargspec() is deprecated, use inspect.signature() instead\n",
      "  spec = inspect.getargspec(func)\n",
      "C:\\Users\\Risto\\Anaconda3\\lib\\site-packages\\funcy\\decorators.py:56: DeprecationWarning: inspect.getargspec() is deprecated, use inspect.signature() instead\n",
      "  spec = inspect.getargspec(func)\n",
      "C:\\Users\\Risto\\Anaconda3\\lib\\site-packages\\funcy\\decorators.py:56: DeprecationWarning: inspect.getargspec() is deprecated, use inspect.signature() instead\n",
      "  spec = inspect.getargspec(func)\n"
     ]
    }
   ],
   "source": [
    "import numpy as np\n",
    "import logging\n",
    "import pyLDAvis.gensim\n",
    "import json\n",
    "import warnings\n",
    "warnings.filterwarnings('ignore')  # To ignore all warnings that arise here to enhance clarity\n",
    "\n",
    "from gensim.models.coherencemodel import CoherenceModel\n",
    "from gensim.models.ldamodel import LdaModel\n",
    "from gensim.corpora.dictionary import Dictionary\n",
    "from numpy import array"
   ]
  },
  {
   "cell_type": "code",
   "execution_count": 2,
   "metadata": {
    "collapsed": true
   },
   "outputs": [],
   "source": [
    "texts = [['human', 'interface', 'computer'],\n",
    "         ['survey', 'user', 'computer', 'system', 'response', 'time'],\n",
    "         ['eps', 'user', 'interface', 'system'],\n",
    "         ['system', 'human', 'system', 'eps'],\n",
    "         ['user', 'response', 'time'],\n",
    "         ['trees'],\n",
    "         ['graph', 'trees'],\n",
    "         ['graph', 'minors', 'trees'],\n",
    "         ['graph', 'minors', 'survey']]\n",
    "\n"
   ]
  },
  {
   "cell_type": "code",
   "execution_count": 3,
   "metadata": {
    "collapsed": true
   },
   "outputs": [],
   "source": [
    "dictionary = Dictionary(texts)\n",
    "corpus = [dictionary.doc2bow(text) for text in texts]\n"
   ]
  },
  {
   "cell_type": "code",
   "execution_count": 4,
   "metadata": {
    "collapsed": true
   },
   "outputs": [],
   "source": [
    "goodLdaModel = LdaModel(corpus=corpus, id2word=dictionary, iterations=50, num_topics=2)\n",
    "badLdaModel = LdaModel(corpus=corpus, id2word=dictionary, iterations=1, num_topics=2)\n"
   ]
  },
  {
   "cell_type": "code",
   "execution_count": 5,
   "metadata": {
    "collapsed": true
   },
   "outputs": [],
   "source": [
    "pyLDAvis.enable_notebook()"
   ]
  },
  {
   "cell_type": "code",
   "execution_count": 6,
   "metadata": {
    "collapsed": false
   },
   "outputs": [
    {
     "data": {
      "text/html": [
       "\n",
       "<link rel=\"stylesheet\" type=\"text/css\" href=\"https://cdn.rawgit.com/bmabey/pyLDAvis/files/ldavis.v1.0.0.css\">\n",
       "\n",
       "\n",
       "<div id=\"ldavis_el765218724366612487115877467\"></div>\n",
       "<script type=\"text/javascript\">\n",
       "\n",
       "var ldavis_el765218724366612487115877467_data = {\"lambda.step\": 0.01, \"topic.order\": [2, 1], \"mdsDat\": {\"topics\": [1, 2], \"cluster\": [1, 1], \"y\": [0.0, 0.0], \"x\": [0.02038122602403462, -0.02038122602403462], \"Freq\": [50.9675490314762, 49.0324509685238]}, \"plot.opts\": {\"ylab\": \"PC2\", \"xlab\": \"PC1\"}, \"R\": 12, \"tinfo\": {\"Total\": [2.0, 2.0, 2.0, 2.0, 2.0, 2.0, 3.0, 2.0, 2.0, 2.0, 2.0, 2.0, 2.2041624303116305, 2.1885662142150104, 3.6105522096518627, 2.1583171652117614, 2.867077014812848, 2.8459647767165586, 2.118786464838556, 2.097147591873437, 2.0720026965804763, 2.0639430662170177, 2.7404605583016606, 2.0330198112691846, 2.0330198112691846, 2.7404605583016606, 2.0639430662170177, 2.0720026965804763, 2.097147591873437, 2.118786464838556, 2.8459647767165586, 2.867077014812848, 2.1583171652117614, 3.6105522096518627, 2.1885662142150104, 2.2041624303116305], \"Term\": [\"time\", \"user\", \"minors\", \"eps\", \"response\", \"computer\", \"system\", \"human\", \"graph\", \"survey\", \"trees\", \"interface\", \"minors\", \"eps\", \"system\", \"human\", \"graph\", \"trees\", \"interface\", \"survey\", \"computer\", \"response\", \"user\", \"time\", \"time\", \"user\", \"response\", \"computer\", \"survey\", \"interface\", \"trees\", \"graph\", \"human\", \"system\", \"eps\", \"minors\"], \"Category\": [\"Default\", \"Default\", \"Default\", \"Default\", \"Default\", \"Default\", \"Default\", \"Default\", \"Default\", \"Default\", \"Default\", \"Default\", \"Topic1\", \"Topic1\", \"Topic1\", \"Topic1\", \"Topic1\", \"Topic1\", \"Topic1\", \"Topic1\", \"Topic1\", \"Topic1\", \"Topic1\", \"Topic1\", \"Topic2\", \"Topic2\", \"Topic2\", \"Topic2\", \"Topic2\", \"Topic2\", \"Topic2\", \"Topic2\", \"Topic2\", \"Topic2\", \"Topic2\", \"Topic2\"], \"loglift\": [12.0, 11.0, 10.0, 9.0, 8.0, 7.0, 6.0, 5.0, 4.0, 3.0, 2.0, 1.0, 0.3489, 0.2932, 0.2064, 0.1728, 0.1377, 0.0636, -0.0169, -0.142, -0.3145, -0.3777, -0.4505, -0.6726, 0.4114, 0.3199, 0.2829, 0.2472, 0.1289, 0.0172, -0.0707, -0.1666, -0.2182, -0.2723, -0.4372, -0.5691], \"logprob\": [12.0, 11.0, 10.0, 9.0, 8.0, 7.0, 6.0, 5.0, 4.0, 3.0, 2.0, 1.0, -2.2281, -2.2909, -1.877, -2.4252, -2.1763, -2.2578, -2.6333, -2.7687, -2.9532, -3.0204, -2.8097, -3.3304, -2.2464, -2.0392, -2.3598, -2.3916, -2.4978, -2.5992, -2.3921, -2.4806, -2.8162, -2.3557, -3.0212, -3.146], \"Freq\": [2.0, 2.0, 2.0, 2.0, 2.0, 2.0, 3.0, 2.0, 2.0, 2.0, 2.0, 2.0, 1.592395087745525, 1.495474870928002, 2.2621661258473, 1.3074969428359315, 1.6769650247180286, 1.5457663620988924, 1.0618396611347638, 0.9273683094637173, 0.771109336867422, 0.7210240394173036, 0.8901270928949111, 0.5288563651763032, 1.5041634460928817, 1.8503334654067496, 1.342919026799714, 1.3008933597130545, 1.1697792824097197, 1.0569468037037921, 1.3001984146176662, 1.1901119900948192, 0.8508202223758298, 1.348386083804563, 0.6930913432870085, 0.6117673425661053]}, \"token.table\": {\"Topic\": [1, 2, 1, 2, 1, 2, 1, 2, 1, 2, 1, 2, 1, 2, 1, 2, 1, 2, 1, 2, 1, 2, 1, 2], \"Term\": [\"computer\", \"computer\", \"eps\", \"eps\", \"graph\", \"graph\", \"human\", \"human\", \"interface\", \"interface\", \"minors\", \"minors\", \"response\", \"response\", \"survey\", \"survey\", \"system\", \"system\", \"time\", \"time\", \"trees\", \"trees\", \"user\", \"user\"], \"Freq\": [0.48262485451893816, 0.48262485451893816, 0.4569201486822173, 0.4569201486822173, 0.6975745645013839, 0.34878728225069194, 0.46332393409005107, 0.46332393409005107, 0.47196827834946375, 0.47196827834946375, 0.9073741447073093, 0.45368707235365463, 0.48450948883628403, 0.48450948883628403, 0.4768381604971702, 0.4768381604971702, 0.5539318873865127, 0.27696594369325633, 0.4918791221103323, 0.9837582442206646, 0.7027493862054879, 0.35137469310274394, 0.3649021683492966, 0.7298043366985932]}};\n",
       "\n",
       "function LDAvis_load_lib(url, callback){\n",
       "  var s = document.createElement('script');\n",
       "  s.src = url;\n",
       "  s.async = true;\n",
       "  s.onreadystatechange = s.onload = callback;\n",
       "  s.onerror = function(){console.warn(\"failed to load library \" + url);};\n",
       "  document.getElementsByTagName(\"head\")[0].appendChild(s);\n",
       "}\n",
       "\n",
       "if(typeof(LDAvis) !== \"undefined\"){\n",
       "   // already loaded: just create the visualization\n",
       "   !function(LDAvis){\n",
       "       new LDAvis(\"#\" + \"ldavis_el765218724366612487115877467\", ldavis_el765218724366612487115877467_data);\n",
       "   }(LDAvis);\n",
       "}else if(typeof define === \"function\" && define.amd){\n",
       "   // require.js is available: use it to load d3/LDAvis\n",
       "   require.config({paths: {d3: \"https://cdnjs.cloudflare.com/ajax/libs/d3/3.5.5/d3.min\"}});\n",
       "   require([\"d3\"], function(d3){\n",
       "      window.d3 = d3;\n",
       "      LDAvis_load_lib(\"https://cdn.rawgit.com/bmabey/pyLDAvis/files/ldavis.v1.0.0.js\", function(){\n",
       "        new LDAvis(\"#\" + \"ldavis_el765218724366612487115877467\", ldavis_el765218724366612487115877467_data);\n",
       "      });\n",
       "    });\n",
       "}else{\n",
       "    // require.js not available: dynamically load d3 & LDAvis\n",
       "    LDAvis_load_lib(\"https://cdnjs.cloudflare.com/ajax/libs/d3/3.5.5/d3.min.js\", function(){\n",
       "         LDAvis_load_lib(\"https://cdn.rawgit.com/bmabey/pyLDAvis/files/ldavis.v1.0.0.js\", function(){\n",
       "                 new LDAvis(\"#\" + \"ldavis_el765218724366612487115877467\", ldavis_el765218724366612487115877467_data);\n",
       "            })\n",
       "         });\n",
       "}\n",
       "</script>"
      ],
      "text/plain": [
       "PreparedData(topic_coordinates=            Freq  cluster  topics         x    y\n",
       "topic                                           \n",
       "1      50.967549        1       1  0.020381  0.0\n",
       "0      49.032451        1       2 -0.020381  0.0, topic_info=     Category      Freq       Term     Total  loglift  logprob\n",
       "term                                                          \n",
       "1     Default  2.000000       time  2.000000  12.0000  12.0000\n",
       "7     Default  2.000000       user  2.000000  11.0000  11.0000\n",
       "2     Default  2.000000     minors  2.000000  10.0000  10.0000\n",
       "11    Default  2.000000        eps  2.000000   9.0000   9.0000\n",
       "4     Default  2.000000   response  2.000000   8.0000   8.0000\n",
       "8     Default  2.000000   computer  2.000000   7.0000   7.0000\n",
       "10    Default  3.000000     system  3.000000   6.0000   6.0000\n",
       "5     Default  2.000000      human  2.000000   5.0000   5.0000\n",
       "6     Default  2.000000      graph  2.000000   4.0000   4.0000\n",
       "3     Default  2.000000     survey  2.000000   3.0000   3.0000\n",
       "0     Default  2.000000      trees  2.000000   2.0000   2.0000\n",
       "9     Default  2.000000  interface  2.000000   1.0000   1.0000\n",
       "2      Topic1  1.592395     minors  2.204162   0.3489  -2.2281\n",
       "11     Topic1  1.495475        eps  2.188566   0.2932  -2.2909\n",
       "10     Topic1  2.262166     system  3.610552   0.2064  -1.8770\n",
       "5      Topic1  1.307497      human  2.158317   0.1728  -2.4252\n",
       "6      Topic1  1.676965      graph  2.867077   0.1377  -2.1763\n",
       "0      Topic1  1.545766      trees  2.845965   0.0636  -2.2578\n",
       "9      Topic1  1.061840  interface  2.118786  -0.0169  -2.6333\n",
       "3      Topic1  0.927368     survey  2.097148  -0.1420  -2.7687\n",
       "8      Topic1  0.771109   computer  2.072003  -0.3145  -2.9532\n",
       "4      Topic1  0.721024   response  2.063943  -0.3777  -3.0204\n",
       "7      Topic1  0.890127       user  2.740461  -0.4505  -2.8097\n",
       "1      Topic1  0.528856       time  2.033020  -0.6726  -3.3304\n",
       "1      Topic2  1.504163       time  2.033020   0.4114  -2.2464\n",
       "7      Topic2  1.850333       user  2.740461   0.3199  -2.0392\n",
       "4      Topic2  1.342919   response  2.063943   0.2829  -2.3598\n",
       "8      Topic2  1.300893   computer  2.072003   0.2472  -2.3916\n",
       "3      Topic2  1.169779     survey  2.097148   0.1289  -2.4978\n",
       "9      Topic2  1.056947  interface  2.118786   0.0172  -2.5992\n",
       "0      Topic2  1.300198      trees  2.845965  -0.0707  -2.3921\n",
       "6      Topic2  1.190112      graph  2.867077  -0.1666  -2.4806\n",
       "5      Topic2  0.850820      human  2.158317  -0.2182  -2.8162\n",
       "10     Topic2  1.348386     system  3.610552  -0.2723  -2.3557\n",
       "11     Topic2  0.693091        eps  2.188566  -0.4372  -3.0212\n",
       "2      Topic2  0.611767     minors  2.204162  -0.5691  -3.1460, token_table=      Topic      Freq       Term\n",
       "term                            \n",
       "8         1  0.482625   computer\n",
       "8         2  0.482625   computer\n",
       "11        1  0.456920        eps\n",
       "11        2  0.456920        eps\n",
       "6         1  0.697575      graph\n",
       "6         2  0.348787      graph\n",
       "5         1  0.463324      human\n",
       "5         2  0.463324      human\n",
       "9         1  0.471968  interface\n",
       "9         2  0.471968  interface\n",
       "2         1  0.907374     minors\n",
       "2         2  0.453687     minors\n",
       "4         1  0.484509   response\n",
       "4         2  0.484509   response\n",
       "3         1  0.476838     survey\n",
       "3         2  0.476838     survey\n",
       "10        1  0.553932     system\n",
       "10        2  0.276966     system\n",
       "1         1  0.491879       time\n",
       "1         2  0.983758       time\n",
       "0         1  0.702749      trees\n",
       "0         2  0.351375      trees\n",
       "7         1  0.364902       user\n",
       "7         2  0.729804       user, R=12, lambda_step=0.01, plot_opts={'ylab': 'PC2', 'xlab': 'PC1'}, topic_order=[2, 1])"
      ]
     },
     "execution_count": 6,
     "metadata": {},
     "output_type": "execute_result"
    }
   ],
   "source": [
    "pyLDAvis.gensim.prepare(goodLdaModel, corpus, dictionary)"
   ]
  },
  {
   "cell_type": "code",
   "execution_count": 49,
   "metadata": {
    "collapsed": false
   },
   "outputs": [
    {
     "name": "stdout",
     "output_type": "stream",
     "text": [
      "[(0, '0.130*\"user\" + 0.106*\"time\" + 0.095*\"system\"'), (1, '0.153*\"system\" + 0.113*\"graph\" + 0.108*\"minors\"')]\n"
     ]
    }
   ],
   "source": [
    "print(goodLdaModel.print_topics(num_topics=3, num_words=3))"
   ]
  },
  {
   "cell_type": "code",
   "execution_count": 11,
   "metadata": {
    "collapsed": true
   },
   "outputs": [],
   "source": [
    "#twitter\n",
    "import tweepy\n",
    "from tweepy import OAuthHandler\n",
    " \n",
    "consumer_key = 'C8Jpl39xJIVC6uw4zb6Rj809s'\n",
    "consumer_secret = 'VjTKEep9JMmrk8mezvSF3C4igtKkIWg2GObwuJ6TCWB8qsL6q4'\n",
    "access_token = '900293220-O76OTSxQzZeB7hvjlwujXYg7rDzN4Dy7bF4LBZn8'\n",
    "access_secret = 'LGjLVWtiB8gloVC2nhi04KroTlJLtWiic803qiN296JFc'\n",
    " \n",
    "auth = OAuthHandler(consumer_key, consumer_secret)\n",
    "auth.set_access_token(access_token, access_secret)\n",
    " \n",
    "api = tweepy.API(auth)"
   ]
  },
  {
   "cell_type": "code",
   "execution_count": 14,
   "metadata": {
    "collapsed": false
   },
   "outputs": [],
   "source": [
    "#for tweet in tweepy.Cursor(api.search, q=\"Trump\", lang=\"en\").items():\n",
    " #   print(tweet)"
   ]
  },
  {
   "cell_type": "code",
   "execution_count": 15,
   "metadata": {
    "collapsed": true
   },
   "outputs": [],
   "source": [
    "from twython import Twython"
   ]
  },
  {
   "cell_type": "code",
   "execution_count": 17,
   "metadata": {
    "collapsed": false
   },
   "outputs": [],
   "source": [
    "APP_KEY = 'C8Jpl39xJIVC6uw4zb6Rj809s'\n",
    "APP_SECRET = 'VjTKEep9JMmrk8mezvSF3C4igtKkIWg2GObwuJ6TCWB8qsL6q4'\n",
    "\n",
    "twitter = Twython(APP_KEY, APP_SECRET)\n",
    "\n",
    "auth = twitter.get_authentication_tokens()"
   ]
  },
  {
   "cell_type": "code",
   "execution_count": null,
   "metadata": {
    "collapsed": false
   },
   "outputs": [],
   "source": []
  },
  {
   "cell_type": "code",
   "execution_count": 24,
   "metadata": {
    "collapsed": false
   },
   "outputs": [],
   "source": [
    "from twython import Twython\n",
    "twitter = Twython('C8Jpl39xJIVC6uw4zb6Rj809s','VjTKEep9JMmrk8mezvSF3C4igtKkIWg2GObwuJ6TCWB8qsL6q4',\n",
    "                  '900293220-O76OTSxQzZeB7hvjlwujXYg7rDzN4Dy7bF4LBZn8', 'LGjLVWtiB8gloVC2nhi04KroTlJLtWiic803qiN296JFc')\n"
   ]
  },
  {
   "cell_type": "code",
   "execution_count": 48,
   "metadata": {
    "collapsed": false
   },
   "outputs": [],
   "source": [
    "#twitter.get_home_timeline()\n",
    "tweedid=twitter.search(q='estonianmaffia', count=20)"
   ]
  },
  {
   "cell_type": "code",
   "execution_count": 28,
   "metadata": {
    "collapsed": true
   },
   "outputs": [],
   "source": [
    "import json"
   ]
  },
  {
   "cell_type": "code",
   "execution_count": 31,
   "metadata": {
    "collapsed": false
   },
   "outputs": [
    {
     "data": {
      "text/plain": [
       "dict"
      ]
     },
     "execution_count": 31,
     "metadata": {},
     "output_type": "execute_result"
    }
   ],
   "source": [
    "type(tweedid)"
   ]
  },
  {
   "cell_type": "code",
   "execution_count": 40,
   "metadata": {
    "collapsed": false
   },
   "outputs": [
    {
     "data": {
      "text/plain": [
       "dict_keys(['statuses', 'search_metadata'])"
      ]
     },
     "execution_count": 40,
     "metadata": {},
     "output_type": "execute_result"
    }
   ],
   "source": [
    "tweedid.keys()"
   ]
  },
  {
   "cell_type": "code",
   "execution_count": 42,
   "metadata": {
    "collapsed": false
   },
   "outputs": [
    {
     "data": {
      "text/plain": [
       "list"
      ]
     },
     "execution_count": 42,
     "metadata": {},
     "output_type": "execute_result"
    }
   ],
   "source": [
    "type(tweedid['statuses'])"
   ]
  },
  {
   "cell_type": "code",
   "execution_count": 45,
   "metadata": {
    "collapsed": false
   },
   "outputs": [
    {
     "data": {
      "text/plain": [
       "dict"
      ]
     },
     "execution_count": 45,
     "metadata": {},
     "output_type": "execute_result"
    }
   ],
   "source": [
    "type(tweedid['statuses'][1])"
   ]
  },
  {
   "cell_type": "code",
   "execution_count": 46,
   "metadata": {
    "collapsed": false
   },
   "outputs": [
    {
     "data": {
      "text/plain": [
       "dict_keys(['retweet_count', 'lang', 'id_str', 'retweeted', 'metadata', 'in_reply_to_user_id_str', 'text', 'possibly_sensitive', 'favorite_count', 'favorited', 'in_reply_to_status_id', 'in_reply_to_screen_name', 'is_quote_status', 'truncated', 'entities', 'source', 'coordinates', 'created_at', 'geo', 'id', 'contributors', 'user', 'in_reply_to_user_id', 'place', 'in_reply_to_status_id_str'])"
      ]
     },
     "execution_count": 46,
     "metadata": {},
     "output_type": "execute_result"
    }
   ],
   "source": [
    "tweedid['statuses'][1].keys()"
   ]
  },
  {
   "cell_type": "code",
   "execution_count": 47,
   "metadata": {
    "collapsed": false
   },
   "outputs": [
    {
     "data": {
      "text/plain": [
       "'Els parlaments de Suïssa i Estònia també creen un grup per seguir el procés català https://t.co/P1SRE5WiDY @ancSuisse @assemblea_int'"
      ]
     },
     "execution_count": 47,
     "metadata": {},
     "output_type": "execute_result"
    }
   ],
   "source": [
    "tweedid['statuses'][1]['text']"
   ]
  },
  {
   "cell_type": "code",
   "execution_count": null,
   "metadata": {
    "collapsed": true
   },
   "outputs": [],
   "source": []
  }
 ],
 "metadata": {
  "anaconda-cloud": {},
  "kernelspec": {
   "display_name": "Python [Root]",
   "language": "python",
   "name": "Python [Root]"
  },
  "language_info": {
   "codemirror_mode": {
    "name": "ipython",
    "version": 3
   },
   "file_extension": ".py",
   "mimetype": "text/x-python",
   "name": "python",
   "nbconvert_exporter": "python",
   "pygments_lexer": "ipython3",
   "version": "3.5.2"
  }
 },
 "nbformat": 4,
 "nbformat_minor": 0
}
